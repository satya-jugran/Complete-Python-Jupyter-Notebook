{
 "cells": [
  {
   "cell_type": "markdown",
   "metadata": {},
   "source": [
    "# Inheritance"
   ]
  },
  {
   "cell_type": "code",
   "execution_count": 1,
   "metadata": {},
   "outputs": [
    {
     "name": "stdout",
     "output_type": "stream",
     "text": [
      "\n",
      "[Writing to File] - This is a message\n",
      "\n",
      "[Writing to Database] - This is a message\n"
     ]
    }
   ],
   "source": [
    "class Logger:\n",
    "    \n",
    "    def __init__(self, name):\n",
    "        self.name = name\n",
    "    \n",
    "    def write(self, message):\n",
    "        print(f\"\\n[Writing to {self.name}] - {message}\")\n",
    "\n",
    "class FileLogger(Logger):\n",
    "\n",
    "    def __init__(self, name):\n",
    "        Logger.__init__(self, name)\n",
    "\n",
    "class DBLogger(Logger):\n",
    "\n",
    "    def __init__(self, name):\n",
    "        Logger.__init__(self, name)\n",
    "\n",
    "logMessage = \"This is a message\"\n",
    "fileLogger = FileLogger(\"File\")\n",
    "dbLogger = DBLogger(\"Database\")\n",
    "\n",
    "fileLogger.write(logMessage)\n",
    "dbLogger.write(logMessage)"
   ]
  },
  {
   "cell_type": "markdown",
   "metadata": {},
   "source": [
    "# Multiple Inheritance"
   ]
  },
  {
   "cell_type": "code",
   "execution_count": 8,
   "metadata": {},
   "outputs": [
    {
     "name": "stdout",
     "output_type": "stream",
     "text": [
      "Alice is a valid student and employee\n",
      "Bob is not a valid student or employee\n"
     ]
    }
   ],
   "source": [
    "class Employee:\n",
    "    def __init__(self, empCode):\n",
    "        self.empCode = empCode\n",
    "\n",
    "    def isValidEmployee(self):\n",
    "        return str(self.empCode).startswith(\"ES-\")\n",
    "\n",
    "\n",
    "class Student:\n",
    "    def __init__(self, idNumber):\n",
    "        self.idNumber = idNumber\n",
    "\n",
    "    def isValidStudent(self):\n",
    "        return str(self.idNumber).startswith(\"SA-\")\n",
    "\n",
    "class EmployeeAndStudent(Employee, Student):\n",
    "    def __init__(self, empCode, idNumber):\n",
    "        Employee.__init__(self, empCode)\n",
    "        Student.__init__(self, idNumber)\n",
    "\n",
    "    def isValid(self):\n",
    "        return Employee.isValidEmployee(self) and Student.isValidStudent(self)\n",
    "\n",
    "alice = EmployeeAndStudent(\"ES-004\", \"SA-009\")\n",
    "if(alice.isValid()):\n",
    "    print(\"Alice is a valid student and employee\")\n",
    "else:\n",
    "    print(\"Alice is not a valid student or employee\")\n",
    "\n",
    "bob = EmployeeAndStudent(\"ES-004\", \"SB-009\")\n",
    "if(bob.isValid()):\n",
    "    print(\"Bob is a valid student and employee\")\n",
    "else:\n",
    "    print(\"Bob is not a valid student or employee\")"
   ]
  },
  {
   "cell_type": "markdown",
   "metadata": {},
   "source": [
    "# Method Overloading"
   ]
  },
  {
   "cell_type": "code",
   "execution_count": 9,
   "metadata": {},
   "outputs": [
    {
     "name": "stdout",
     "output_type": "stream",
     "text": [
      "Box 1 dimensions : Width - 10, Length - 10, Height - 10\n",
      "Box 2 dimensions : Width - 20, Length - 10, Height - 10\n",
      "Box 3 dimensions : Width - 20, Length - 30, Height - 10\n",
      "Box 4 dimensions : Width - 20, Length - 30, Height - 40\n",
      "Box 5 dimensions : Width - 10, Length - 25, Height - 10\n"
     ]
    }
   ],
   "source": [
    "class Box:\n",
    "\n",
    "    def __init__(self, name):\n",
    "        self.name = name\n",
    "\n",
    "    def setDimentions(self, width = 10, length = 10, height = 10):\n",
    "        self.width = width\n",
    "        self.length = length\n",
    "        self.height = height\n",
    "\n",
    "    def printBox(self):\n",
    "        print(f\"{self.name} dimensions : Width - {self.width}, Length - {self.length}, Height - {self.height}\")\n",
    "\n",
    "box1 = Box(\"Box 1\")\n",
    "box1.setDimentions()\n",
    "\n",
    "box2 = Box(\"Box 2\")\n",
    "box2.setDimentions(20)\n",
    "\n",
    "box3 = Box(\"Box 3\")\n",
    "box3.setDimentions(20, 30)\n",
    "\n",
    "box4 = Box(\"Box 4\")\n",
    "box4.setDimentions(20, 30, 40)\n",
    "\n",
    "box5 = Box(\"Box 5\")\n",
    "box5.setDimentions(length=25)\n",
    "\n",
    "box1.printBox()\n",
    "box2.printBox()\n",
    "box3.printBox()\n",
    "box4.printBox()\n",
    "box5.printBox()"
   ]
  },
  {
   "cell_type": "markdown",
   "metadata": {},
   "source": [
    "# Method Overriding"
   ]
  },
  {
   "cell_type": "code",
   "execution_count": 4,
   "metadata": {},
   "outputs": [
    {
     "name": "stdout",
     "output_type": "stream",
     "text": [
      "\n",
      "[Writing to File -> /logs/service.logs] - This is a message\n",
      "\n",
      "[Writing to Database] - This is a message\n"
     ]
    }
   ],
   "source": [
    "class Logger:\n",
    "\n",
    "    def __init__(self, name):\n",
    "        self.name = name\n",
    "\n",
    "    def write(self, message):\n",
    "        print(f\"\\n[Writing to {self.name}] - {message}\")\n",
    "\n",
    "class FileLogger(Logger):\n",
    "\n",
    "    def __init__(self, name, filePath):\n",
    "        Logger.__init__(self, name)\n",
    "        self.filePath = filePath\n",
    "\n",
    "    def write(self, message):\n",
    "        print(f\"\\n[Writing to {self.name} -> {self.filePath}] - {message}\")\n",
    "\n",
    "class DBLogger(Logger):\n",
    "\n",
    "    def __init__(self, name):\n",
    "        Logger.__init__(self, name)\n",
    "\n",
    "logMessage = \"This is a message\"\n",
    "fileLogger = FileLogger(\"File\", \"/logs/service.logs\")\n",
    "dbLogger = DBLogger(\"Database\")\n",
    "\n",
    "fileLogger.write(logMessage)\n",
    "dbLogger.write(logMessage)"
   ]
  },
  {
   "cell_type": "markdown",
   "metadata": {},
   "source": [
    "# Private data members"
   ]
  },
  {
   "cell_type": "code",
   "execution_count": 7,
   "metadata": {},
   "outputs": [
    {
     "name": "stdout",
     "output_type": "stream",
     "text": [
      "Alice\n"
     ]
    }
   ],
   "source": [
    "class Employee:\n",
    "  \n",
    "    def __init__(self, name):\n",
    "        self.__name = name\n",
    "  \n",
    "    def getName(self):\n",
    "        return self.__name\n",
    "\n",
    "alice = Employee(\"Alice\")\n",
    "name = alice.getName()\n",
    "print(name)"
   ]
  }
 ],
 "metadata": {
  "kernelspec": {
   "display_name": "Python 3",
   "language": "python",
   "name": "python3"
  },
  "language_info": {
   "codemirror_mode": {
    "name": "ipython",
    "version": 3
   },
   "file_extension": ".py",
   "mimetype": "text/x-python",
   "name": "python",
   "nbconvert_exporter": "python",
   "pygments_lexer": "ipython3",
   "version": "3.6.6"
  }
 },
 "nbformat": 4,
 "nbformat_minor": 2
}
