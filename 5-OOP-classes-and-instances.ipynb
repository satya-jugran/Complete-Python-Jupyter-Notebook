{
 "cells": [
  {
   "cell_type": "markdown",
   "metadata": {},
   "source": [
    "# Classes in Python"
   ]
  },
  {
   "cell_type": "code",
   "execution_count": 6,
   "metadata": {},
   "outputs": [
    {
     "name": "stdout",
     "output_type": "stream",
     "text": [
      "Height - 100, Length - 800, Width - 500\n"
     ]
    }
   ],
   "source": [
    "class House:\n",
    "    def getDimensions(self):\n",
    "        return f\"Height - {self.height}, Length - {self.length}, Width - {self.width}\"\n",
    "\n",
    "myHouse = House()\n",
    "myHouse.height = 100\n",
    "myHouse.width = 500\n",
    "myHouse.length = 800\n",
    "\n",
    "dim = myHouse.getDimensions()\n",
    "\n",
    "print(dim)"
   ]
  },
  {
   "cell_type": "markdown",
   "metadata": {},
   "source": [
    "# Class constructor"
   ]
  },
  {
   "cell_type": "code",
   "execution_count": 7,
   "metadata": {},
   "outputs": [
    {
     "name": "stdout",
     "output_type": "stream",
     "text": [
      "Height - 800, Length - 100, Width - 500\n"
     ]
    }
   ],
   "source": [
    "class House:\n",
    "    \n",
    "    def __init__(self, length, width, height):\n",
    "        self.length = length\n",
    "        self.width = width\n",
    "        self.height = height\n",
    "\n",
    "    def getDimensions(self):\n",
    "        return f\"Height - {self.height}, Length - {self.length}, Width - {self.width}\"\n",
    "\n",
    "\n",
    "myHouse = House(100, 500, 800)\n",
    "\n",
    "dim = myHouse.getDimensions()\n",
    "\n",
    "print(dim)"
   ]
  },
  {
   "cell_type": "markdown",
   "metadata": {},
   "source": [
    "# Class destructor"
   ]
  },
  {
   "cell_type": "code",
   "execution_count": 8,
   "metadata": {},
   "outputs": [
    {
     "name": "stdout",
     "output_type": "stream",
     "text": [
      "Height - 800, Length - 100, Width - 500\n",
      "Destructor called\n"
     ]
    }
   ],
   "source": [
    "class House:\n",
    "\n",
    "    def __init__(self, length, width, height):\n",
    "        self.length = length\n",
    "        self.width = width\n",
    "        self.height = height\n",
    "\n",
    "    def getDimensions(self):\n",
    "        return f\"Height - {self.height}, Length - {self.length}, Width - {self.width}\"\n",
    "\n",
    "    def __del__(self):\n",
    "        print(\"Destructor called\")\n",
    "\n",
    "\n",
    "myHouse = House(100, 500, 800)\n",
    "\n",
    "dim = myHouse.getDimensions()\n",
    "\n",
    "print(dim)\n",
    "\n",
    "del myHouse"
   ]
  },
  {
   "cell_type": "markdown",
   "metadata": {},
   "source": [
    "# Class variables v/s instance variables"
   ]
  },
  {
   "cell_type": "code",
   "execution_count": 9,
   "metadata": {},
   "outputs": [
    {
     "name": "stdout",
     "output_type": "stream",
     "text": [
      "\n",
      "Game created for Alice\n",
      "Remaining bullets [Total] - 90\n",
      "Remaining bullets [Alice] - 10\n",
      "\n",
      "Game created for Bob\n",
      "Remaining bullets [Total] - 80\n",
      "Remaining bullets [Bob] - 10\n",
      "\n",
      "Alice fired a shot\n",
      "Remaining bullets [Total] - 80\n",
      "Remaining bullets [Alice] - 9\n",
      "\n",
      "Bob fired a shot\n",
      "Remaining bullets [Total] - 80\n",
      "Remaining bullets [Bob] - 9\n",
      "\n",
      "Game created for Chris\n",
      "Remaining bullets [Total] - 70\n",
      "Remaining bullets [Chris] - 9\n",
      "\n",
      "Chris fired 5 shots\n",
      "Remaining bullets [Total] - 70\n",
      "Remaining bullets [Chris] - 4\n"
     ]
    }
   ],
   "source": [
    "class Shooting:\n",
    "    remainingBullets = 100\n",
    "    \n",
    "    def __init__(self, playerName):\n",
    "        self.playerName = playerName\n",
    "        self.remainingBullets = 10\n",
    "        Shooting.remainingBullets -= 10\n",
    "\n",
    "    def shoot(self):\n",
    "        if(Shooting.remainingBullets == 0):\n",
    "            print(\"Can not shoot. No more bullets\")\n",
    "        else:\n",
    "            self.remainingBullets -=1\n",
    "\n",
    "shooting_alice = Shooting(\"Alice\")\n",
    "print(\"\\nGame created for Alice\")\n",
    "print(f\"Remaining bullets [Total] - {Shooting.remainingBullets}\")\n",
    "print(f\"Remaining bullets [Alice] - {shooting_alice.remainingBullets}\")\n",
    "\n",
    "shooting_bob = Shooting(\"Bob\")\n",
    "print(\"\\nGame created for Bob\")\n",
    "print(f\"Remaining bullets [Total] - {Shooting.remainingBullets}\")\n",
    "print(f\"Remaining bullets [Bob] - {shooting_bob.remainingBullets}\")\n",
    "\n",
    "shooting_alice.shoot()\n",
    "print(\"\\nAlice fired a shot\")\n",
    "print(f\"Remaining bullets [Total] - {Shooting.remainingBullets}\")\n",
    "print(f\"Remaining bullets [Alice] - {shooting_alice.remainingBullets}\")\n",
    "\n",
    "shooting_bob.shoot()\n",
    "print(\"\\nBob fired a shot\")\n",
    "print(f\"Remaining bullets [Total] - {Shooting.remainingBullets}\")\n",
    "print(f\"Remaining bullets [Bob] - {shooting_bob.remainingBullets}\")\n",
    "\n",
    "shooting_chris = Shooting(\"Chris\")\n",
    "print(\"\\nGame created for Chris\")\n",
    "print(f\"Remaining bullets [Total] - {Shooting.remainingBullets}\")\n",
    "print(f\"Remaining bullets [Chris] - {shooting_chris.remainingBullets}\")\n",
    "\n",
    "for i in range(0,5):\n",
    "\tshooting_chris.shoot()\n",
    "print(\"\\nChris fired 5 shots\")\n",
    "print(f\"Remaining bullets [Total] - {Shooting.remainingBullets}\")\n",
    "print(f\"Remaining bullets [Chris] - {shooting_chris.remainingBullets}\")"
   ]
  }
 ],
 "metadata": {
  "kernelspec": {
   "display_name": "Python 3",
   "language": "python",
   "name": "python3"
  },
  "language_info": {
   "codemirror_mode": {
    "name": "ipython",
    "version": 3
   },
   "file_extension": ".py",
   "mimetype": "text/x-python",
   "name": "python",
   "nbconvert_exporter": "python",
   "pygments_lexer": "ipython3",
   "version": "3.6.6"
  }
 },
 "nbformat": 4,
 "nbformat_minor": 2
}
