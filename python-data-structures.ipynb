{
 "cells": [
  {
   "cell_type": "markdown",
   "metadata": {},
   "source": [
    "# 1. List operations"
   ]
  },
  {
   "cell_type": "code",
   "execution_count": 1,
   "metadata": {},
   "outputs": [
    {
     "name": "stdout",
     "output_type": "stream",
     "text": [
      "['United States', 'India', 'Germany', 'Australia']\n"
     ]
    }
   ],
   "source": [
    "countries = [\"United States\", \"India\", \"Germany\", \"Australia\"]\n",
    "print(countries)"
   ]
  },
  {
   "cell_type": "code",
   "execution_count": 2,
   "metadata": {},
   "outputs": [
    {
     "name": "stdout",
     "output_type": "stream",
     "text": [
      "['United States', 'India', 'Germany', 'Australia', 'Singapore']\n"
     ]
    }
   ],
   "source": [
    "countries.append(\"Singapore\")\n",
    "print(countries)"
   ]
  },
  {
   "cell_type": "code",
   "execution_count": 3,
   "metadata": {},
   "outputs": [
    {
     "name": "stdout",
     "output_type": "stream",
     "text": [
      "['Australia', 'Germany', 'India', 'Singapore', 'United States']\n"
     ]
    }
   ],
   "source": [
    "countries.sort()\n",
    "print(countries) "
   ]
  },
  {
   "cell_type": "code",
   "execution_count": 4,
   "metadata": {},
   "outputs": [
    {
     "name": "stdout",
     "output_type": "stream",
     "text": [
      "['United States', 'Singapore', 'India', 'Germany', 'Australia']\n"
     ]
    }
   ],
   "source": [
    "countries.sort(reverse=True) \n",
    "print(countries)"
   ]
  },
  {
   "cell_type": "code",
   "execution_count": 5,
   "metadata": {},
   "outputs": [
    {
     "name": "stdout",
     "output_type": "stream",
     "text": [
      "['United States', 'Singapore', 'Egypt', 'India', 'Germany', 'Australia']\n"
     ]
    }
   ],
   "source": [
    "countries.insert(2, \"Egypt\")\n",
    "print(countries)"
   ]
  },
  {
   "cell_type": "code",
   "execution_count": 6,
   "metadata": {},
   "outputs": [
    {
     "name": "stdout",
     "output_type": "stream",
     "text": [
      "['United States', 'Singapore', 'Egypt', 'India', 'Germany']\n"
     ]
    }
   ],
   "source": [
    "countries.pop()\n",
    "print(countries)"
   ]
  },
  {
   "cell_type": "markdown",
   "metadata": {},
   "source": [
    "# 2. Using list as stack"
   ]
  },
  {
   "cell_type": "code",
   "execution_count": 7,
   "metadata": {},
   "outputs": [
    {
     "name": "stdout",
     "output_type": "stream",
     "text": [
      "['United States', 'India', 'Germany', 'Australia', 'Singapore']\n"
     ]
    }
   ],
   "source": [
    "countries = [\"United States\", \"India\", \"Germany\", \"Australia\"]\n",
    "\n",
    "countries.append(\"Singapore\")\n",
    "print(countries) "
   ]
  },
  {
   "cell_type": "code",
   "execution_count": 8,
   "metadata": {},
   "outputs": [
    {
     "name": "stdout",
     "output_type": "stream",
     "text": [
      "['United States', 'India', 'Germany']\n"
     ]
    }
   ],
   "source": [
    "countries.pop()\n",
    "countries.pop()\n",
    "print(countries) "
   ]
  },
  {
   "cell_type": "markdown",
   "metadata": {},
   "source": [
    "# 3. Using list as queue"
   ]
  },
  {
   "cell_type": "code",
   "execution_count": 9,
   "metadata": {},
   "outputs": [
    {
     "name": "stdout",
     "output_type": "stream",
     "text": [
      "deque(['United States', 'India', 'Germany', 'Australia', 'Singapore'])\n"
     ]
    }
   ],
   "source": [
    "from collections import deque\n",
    "countries = deque([\"United States\", \"India\", \"Germany\", \"Australia\"])\n",
    "countries.append(\"Singapore\")\n",
    "print(countries)"
   ]
  },
  {
   "cell_type": "code",
   "execution_count": 10,
   "metadata": {},
   "outputs": [
    {
     "name": "stdout",
     "output_type": "stream",
     "text": [
      "Pop ->  United States\n",
      "Pop ->  India\n",
      "deque(['Germany', 'Australia', 'Singapore'])\n"
     ]
    }
   ],
   "source": [
    "print(\"Pop -> \", countries.popleft()) \n",
    "print(\"Pop -> \", countries.popleft()) \n",
    "print(countries)"
   ]
  },
  {
   "cell_type": "markdown",
   "metadata": {},
   "source": [
    "# 4. Representing lists in more consice way"
   ]
  },
  {
   "cell_type": "code",
   "execution_count": 11,
   "metadata": {},
   "outputs": [],
   "source": [
    "nums = [1, 2, 3, 5, 8, 6]\n",
    "squares = []"
   ]
  },
  {
   "cell_type": "markdown",
   "metadata": {},
   "source": [
    "There are two ways in which we can square the numbers in nums and store them in squares list.\n",
    "\n",
    "First way :"
   ]
  },
  {
   "cell_type": "code",
   "execution_count": 12,
   "metadata": {},
   "outputs": [
    {
     "name": "stdout",
     "output_type": "stream",
     "text": [
      "Square of numbers ->  [1, 4, 9, 25, 64, 36]\n"
     ]
    }
   ],
   "source": [
    "for i in nums:\n",
    "  squares.append(i**2)\n",
    "print(\"Square of numbers -> \", squares)"
   ]
  },
  {
   "cell_type": "markdown",
   "metadata": {},
   "source": [
    "Second way (concise):"
   ]
  },
  {
   "cell_type": "code",
   "execution_count": 13,
   "metadata": {},
   "outputs": [
    {
     "name": "stdout",
     "output_type": "stream",
     "text": [
      "Square of numbers ->  [1, 4, 9, 25, 64, 36]\n"
     ]
    }
   ],
   "source": [
    "squares = [x**2 for x in nums]\n",
    "print(\"Square of numbers -> \", squares)"
   ]
  },
  {
   "cell_type": "markdown",
   "metadata": {},
   "source": [
    "## 4.1 Other examples"
   ]
  },
  {
   "cell_type": "markdown",
   "metadata": {},
   "source": [
    "### 4.1.1 Adding numbers in two lists index wise"
   ]
  },
  {
   "cell_type": "code",
   "execution_count": 14,
   "metadata": {},
   "outputs": [
    {
     "name": "stdout",
     "output_type": "stream",
     "text": [
      "[10, 10, 10, 10, 10, 10]\n"
     ]
    }
   ],
   "source": [
    "x = [1,2,3,4,5,6]\n",
    "y = [9,8,7,6,5,4]\n",
    "sum = [x[i]+y[i] for i in range(0,6)]\n",
    "print(sum)"
   ]
  },
  {
   "cell_type": "markdown",
   "metadata": {},
   "source": [
    "### 4.1.2 Addition of two 3x3 matrix"
   ]
  },
  {
   "cell_type": "code",
   "execution_count": 15,
   "metadata": {},
   "outputs": [
    {
     "name": "stdout",
     "output_type": "stream",
     "text": [
      "[[4, 4, 4], [4, 4, 4], [4, 4, 4]]\n"
     ]
    }
   ],
   "source": [
    "x = [[1,2,3], [1,2,3], [1,2,3]]\n",
    "y = [[3,2,1], [3,2,1], [3,2,1]]\n",
    "\n",
    "matAdd = [[x[i][j]+y[i][j] for i in range(0, 3)] for j in range(0, 3)]\n",
    "\n",
    "print(matAdd)"
   ]
  },
  {
   "cell_type": "markdown",
   "metadata": {},
   "source": [
    "### 4.1.3 Flattening a two dimension matrix into one dimension"
   ]
  },
  {
   "cell_type": "code",
   "execution_count": 16,
   "metadata": {},
   "outputs": [
    {
     "name": "stdout",
     "output_type": "stream",
     "text": [
      "[1, 2, 3, 1, 2, 3, 1, 2, 3]\n"
     ]
    }
   ],
   "source": [
    "flattened_x = [x[i][j] for i in range(0, 3) for j in range(0, 3)]\n",
    "\n",
    "print(flattened_x)"
   ]
  },
  {
   "cell_type": "markdown",
   "metadata": {},
   "source": [
    "# 5. Using del keyword"
   ]
  },
  {
   "cell_type": "code",
   "execution_count": 17,
   "metadata": {},
   "outputs": [
    {
     "name": "stdout",
     "output_type": "stream",
     "text": [
      "[1, 2, 3, 4]\n",
      "[2, 3, 4, 5, 6]\n"
     ]
    }
   ],
   "source": [
    "x = [1,2,3,4,5,6]\n",
    "print(x[0:4])\n",
    "del x[0]\n",
    "print(x) "
   ]
  },
  {
   "cell_type": "code",
   "execution_count": 18,
   "metadata": {},
   "outputs": [
    {
     "name": "stdout",
     "output_type": "stream",
     "text": [
      "[2, 5, 6]\n"
     ]
    }
   ],
   "source": [
    "del x[1:3]\n",
    "print(x)"
   ]
  },
  {
   "cell_type": "code",
   "execution_count": 19,
   "metadata": {},
   "outputs": [
    {
     "name": "stdout",
     "output_type": "stream",
     "text": [
      "[]\n"
     ]
    }
   ],
   "source": [
    "del x[:]\n",
    "print(x)"
   ]
  },
  {
   "cell_type": "markdown",
   "metadata": {},
   "source": [
    "# 6. Using tuple"
   ]
  },
  {
   "cell_type": "code",
   "execution_count": 20,
   "metadata": {},
   "outputs": [
    {
     "name": "stdout",
     "output_type": "stream",
     "text": [
      "(123, 'Hello', 34.445, 'Alice')\n"
     ]
    }
   ],
   "source": [
    "a = 123, \"Hello\", 34.445, \"Alice\"\n",
    "print(a)"
   ]
  },
  {
   "cell_type": "markdown",
   "metadata": {},
   "source": [
    "## 6.1 Tuples can be unpacked into variables"
   ]
  },
  {
   "cell_type": "code",
   "execution_count": 21,
   "metadata": {},
   "outputs": [
    {
     "name": "stdout",
     "output_type": "stream",
     "text": [
      "123 Hello 34.445 Alice\n"
     ]
    }
   ],
   "source": [
    "w, x, y, z = a\n",
    "print(w, x, y, z)"
   ]
  },
  {
   "cell_type": "markdown",
   "metadata": {},
   "source": [
    "## 6.2 Tuples can be nested"
   ]
  },
  {
   "cell_type": "code",
   "execution_count": 22,
   "metadata": {},
   "outputs": [
    {
     "name": "stdout",
     "output_type": "stream",
     "text": [
      "((123, 'Hello', 34.445, 'Alice'), (345, 'World', 77.434, 'Bob'))\n"
     ]
    }
   ],
   "source": [
    "a = 123, \"Hello\", 34.445, \"Alice\"\n",
    "b = 345, \"World\", 77.434, \"Bob\"\n",
    "c = a, b\n",
    "\n",
    "print(c)"
   ]
  },
  {
   "cell_type": "markdown",
   "metadata": {},
   "source": [
    "## 6.3 Unpacking nested tuples"
   ]
  },
  {
   "cell_type": "code",
   "execution_count": 23,
   "metadata": {},
   "outputs": [
    {
     "name": "stdout",
     "output_type": "stream",
     "text": [
      "(123, 'Hello', 34.445, 'Alice') (345, 'World', 77.434, 'Bob')\n"
     ]
    }
   ],
   "source": [
    "a, b = c\n",
    "print(a, b)"
   ]
  },
  {
   "cell_type": "markdown",
   "metadata": {},
   "source": [
    "## 6.4 Unpacking nested tuples into variables"
   ]
  },
  {
   "cell_type": "code",
   "execution_count": 24,
   "metadata": {},
   "outputs": [
    {
     "name": "stdout",
     "output_type": "stream",
     "text": [
      "123 Hello 34.445 Alice 345 World 77.434 Bob\n"
     ]
    }
   ],
   "source": [
    "(s,t,u,v), (w,x,y,z) = c\n",
    "print(s,t,u,v, w, x, y, z)"
   ]
  },
  {
   "cell_type": "markdown",
   "metadata": {},
   "source": [
    "# 7. Set operations"
   ]
  },
  {
   "cell_type": "markdown",
   "metadata": {},
   "source": [
    "## 7.1 Check if value exists in a set"
   ]
  },
  {
   "cell_type": "code",
   "execution_count": 25,
   "metadata": {},
   "outputs": [
    {
     "name": "stdout",
     "output_type": "stream",
     "text": [
      "True\n"
     ]
    }
   ],
   "source": [
    "countries = {\"United States\", \"India\", \"Germany\", \"Australia\"}\n",
    "\n",
    "print(\"India\" in countries)"
   ]
  },
  {
   "cell_type": "markdown",
   "metadata": {},
   "source": [
    "## 7.2 Set operations between two sets"
   ]
  },
  {
   "cell_type": "code",
   "execution_count": 26,
   "metadata": {},
   "outputs": [],
   "source": [
    "countries1 = {\"United States\", \"India\", \"Germany\", \"Australia\"}\n",
    "countries2 = {\"Singapore\", \"India\", \"Canada\", \"Germany\"}"
   ]
  },
  {
   "cell_type": "markdown",
   "metadata": {},
   "source": [
    "### 7.2.1 Set A - Set B (Values in Set A that are not in set B)"
   ]
  },
  {
   "cell_type": "code",
   "execution_count": 27,
   "metadata": {},
   "outputs": [
    {
     "name": "stdout",
     "output_type": "stream",
     "text": [
      "{'Canada', 'Singapore'}\n",
      "{'Australia', 'United States'}\n"
     ]
    }
   ],
   "source": [
    "print(countries2 - countries1) \n",
    "print(countries1 - countries2) "
   ]
  },
  {
   "cell_type": "markdown",
   "metadata": {},
   "source": [
    "### 7.2.2 Set A | Set B (Union of Set A and Set B)"
   ]
  },
  {
   "cell_type": "code",
   "execution_count": 28,
   "metadata": {},
   "outputs": [
    {
     "name": "stdout",
     "output_type": "stream",
     "text": [
      "{'Canada', 'Singapore', 'Australia', 'Germany', 'United States', 'India'}\n"
     ]
    }
   ],
   "source": [
    "print (countries1 | countries2)"
   ]
  },
  {
   "cell_type": "markdown",
   "metadata": {},
   "source": [
    "### 7.2.3 Set A & Set B (Intersection of Set A and Set B)"
   ]
  },
  {
   "cell_type": "code",
   "execution_count": 29,
   "metadata": {},
   "outputs": [
    {
     "name": "stdout",
     "output_type": "stream",
     "text": [
      "{'Germany', 'India'}\n"
     ]
    }
   ],
   "source": [
    "print(countries1 & countries2)"
   ]
  },
  {
   "cell_type": "markdown",
   "metadata": {},
   "source": [
    "### 7.2.4 Set A ^ Set B ( Union(A,B) - Intersection(A,B) : Values in Set A and Set B but not in both) "
   ]
  },
  {
   "cell_type": "code",
   "execution_count": 30,
   "metadata": {},
   "outputs": [
    {
     "name": "stdout",
     "output_type": "stream",
     "text": [
      "{'Canada', 'Singapore', 'Australia', 'United States'}\n"
     ]
    }
   ],
   "source": [
    "print(countries1 ^ countries2)"
   ]
  },
  {
   "cell_type": "markdown",
   "metadata": {},
   "source": [
    "This is equals to :"
   ]
  },
  {
   "cell_type": "code",
   "execution_count": 32,
   "metadata": {},
   "outputs": [
    {
     "name": "stdout",
     "output_type": "stream",
     "text": [
      "{'Canada', 'Singapore', 'Australia', 'United States'}\n"
     ]
    }
   ],
   "source": [
    "a = (countries1 | countries2) - (countries1 & countries2)\n",
    "print(a)"
   ]
  },
  {
   "cell_type": "markdown",
   "metadata": {},
   "source": [
    "This is also equals to :"
   ]
  },
  {
   "cell_type": "code",
   "execution_count": 33,
   "metadata": {},
   "outputs": [
    {
     "name": "stdout",
     "output_type": "stream",
     "text": [
      "{'Canada', 'Singapore', 'Australia', 'United States'}\n"
     ]
    }
   ],
   "source": [
    "a = { x for x in (countries1 | countries2) if x not in (countries1 & countries2)}\n",
    "print(a)"
   ]
  }
 ],
 "metadata": {
  "kernelspec": {
   "display_name": "Python 3",
   "language": "python",
   "name": "python3"
  },
  "language_info": {
   "codemirror_mode": {
    "name": "ipython",
    "version": 3
   },
   "file_extension": ".py",
   "mimetype": "text/x-python",
   "name": "python",
   "nbconvert_exporter": "python",
   "pygments_lexer": "ipython3",
   "version": "3.6.6"
  }
 },
 "nbformat": 4,
 "nbformat_minor": 2
}
